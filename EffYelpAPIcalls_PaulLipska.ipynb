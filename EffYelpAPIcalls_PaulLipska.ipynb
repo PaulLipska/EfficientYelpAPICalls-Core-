{
 "cells": [
  {
   "cell_type": "markdown",
   "id": "6ec364a9",
   "metadata": {},
   "source": [
    "### Import"
   ]
  },
  {
   "cell_type": "code",
   "execution_count": 1,
   "id": "5844382f",
   "metadata": {},
   "outputs": [],
   "source": [
    "import numpy as np\n",
    "import pandas as pd\n",
    "import matplotlib.pyplot as plt\n",
    "import seaborn as sns\n",
    "# additional imports\n",
    "import os, json, math, time\n",
    "from yelpapi import YelpAPI\n",
    "from tqdm.notebook import tqdm_notebook"
   ]
  },
  {
   "cell_type": "markdown",
   "id": "0e1af54b",
   "metadata": {},
   "source": [
    "### Loading API"
   ]
  },
  {
   "cell_type": "code",
   "execution_count": 2,
   "id": "69a253a3",
   "metadata": {},
   "outputs": [],
   "source": [
    "# Load API Credentials\n",
    "with open('/Users/paull/.secret/yelp_api.json') as f:   #use your path here!\n",
    "    login = json.load(f)\n",
    "# Instantiate YelpAPI Variable\n",
    "yelp_api = YelpAPI(login['api-key'], timeout_s=5.0)"
   ]
  },
  {
   "cell_type": "markdown",
   "id": "4315818a",
   "metadata": {},
   "source": [
    "### Search Terms"
   ]
  },
  {
   "cell_type": "code",
   "execution_count": 3,
   "id": "a9684f4f",
   "metadata": {},
   "outputs": [],
   "source": [
    "# set our API call parameters \n",
    "LOCATION = 'Portland,OR'\n",
    "TERM = 'Bagels'"
   ]
  },
  {
   "cell_type": "markdown",
   "id": "0a09130c",
   "metadata": {},
   "source": [
    "### JSON file name"
   ]
  },
  {
   "cell_type": "code",
   "execution_count": 4,
   "id": "e7ab8adc",
   "metadata": {},
   "outputs": [
    {
     "data": {
      "text/plain": [
       "'Data/results_in_progress_OR_bagels.json'"
      ]
     },
     "execution_count": 4,
     "metadata": {},
     "output_type": "execute_result"
    }
   ],
   "source": [
    "# Specifying JSON_FILE filename (can include a folder)\n",
    "# include the search terms in the filename\n",
    "JSON_FILE = \"Data/results_in_progress_OR_bagels.json\"\n",
    "JSON_FILE"
   ]
  },
  {
   "cell_type": "markdown",
   "id": "51a835d5",
   "metadata": {},
   "source": [
    "### Check for previous file"
   ]
  },
  {
   "cell_type": "code",
   "execution_count": 5,
   "id": "3e0ab079",
   "metadata": {},
   "outputs": [
    {
     "name": "stdout",
     "output_type": "stream",
     "text": [
      "[i] Data/results_in_progress_OR_bagels.json already exists.\n"
     ]
    }
   ],
   "source": [
    "## Check if JSON_FILE exists\n",
    "file_exists = os.path.isfile(JSON_FILE)\n",
    "## If it does not exist: \n",
    "if file_exists == False:\n",
    "    \n",
    "    ## CREATE ANY NEEDED FOLDERS\n",
    "    # Get the Folder Name only\n",
    "    folder = os.path.dirname(JSON_FILE)\n",
    "    ## If JSON_FILE included a folder:\n",
    "    if len(folder)>0:\n",
    "        # create the folder\n",
    "        os.makedirs(folder,exist_ok=True)\n",
    "        \n",
    "        \n",
    "    ## INFORM USER AND SAVE EMPTY LIST\n",
    "    print(f'[i] {JSON_FILE} not found. Saving empty list to file.')\n",
    "    \n",
    "    \n",
    "    # save an empty list\n",
    "    with open(JSON_FILE,'w') as f:\n",
    "        json.dump([],f)  \n",
    "# If it exists, inform user\n",
    "else:\n",
    "    print(f\"[i] {JSON_FILE} already exists.\")\n"
   ]
  },
  {
   "cell_type": "markdown",
   "id": "f3457ab4",
   "metadata": {},
   "source": [
    "### Count previous results"
   ]
  },
  {
   "cell_type": "code",
   "execution_count": 6,
   "id": "c8300995",
   "metadata": {},
   "outputs": [
    {
     "name": "stdout",
     "output_type": "stream",
     "text": [
      "- 20 previous results found.\n"
     ]
    }
   ],
   "source": [
    "## Load previous results and use len of results for offset\n",
    "with open(JSON_FILE,'r') as f:\n",
    "    previous_results = json.load(f)\n",
    "    \n",
    "## set offset based on previous results\n",
    "n_results = len(previous_results)\n",
    "print(f'- {n_results} previous results found.')\n",
    "\n"
   ]
  },
  {
   "cell_type": "code",
   "execution_count": 7,
   "id": "c231211d",
   "metadata": {},
   "outputs": [
    {
     "data": {
      "text/plain": [
       "dict_keys(['businesses', 'total', 'region'])"
      ]
     },
     "execution_count": 7,
     "metadata": {},
     "output_type": "execute_result"
    }
   ],
   "source": [
    "# use our yelp_api variable's search_query method to perform our API call\n",
    "results = yelp_api.search_query(location=LOCATION,\n",
    "                                term=TERM,\n",
    "                               offset=n_results)\n",
    "results.keys()\n",
    "\n"
   ]
  },
  {
   "cell_type": "markdown",
   "id": "db5b7279",
   "metadata": {},
   "source": [
    "### How many results total"
   ]
  },
  {
   "cell_type": "code",
   "execution_count": 8,
   "id": "83078441",
   "metadata": {},
   "outputs": [
    {
     "data": {
      "text/plain": [
       "670"
      ]
     },
     "execution_count": 8,
     "metadata": {},
     "output_type": "execute_result"
    }
   ],
   "source": [
    "## How many results total?\n",
    "total_results = results['total']\n",
    "total_results\n",
    "\n"
   ]
  },
  {
   "cell_type": "code",
   "execution_count": 9,
   "id": "ee0b31cf",
   "metadata": {
    "scrolled": true
   },
   "outputs": [
    {
     "data": {
      "text/plain": [
       "20"
      ]
     },
     "execution_count": 9,
     "metadata": {},
     "output_type": "execute_result"
    }
   ],
   "source": [
    "## How many did we get the details for?\n",
    "results_per_page = len(results['businesses'])\n",
    "results_per_page\n",
    "\n"
   ]
  },
  {
   "cell_type": "markdown",
   "id": "7e8913f9",
   "metadata": {},
   "source": [
    "### Math function to calculate pages"
   ]
  },
  {
   "cell_type": "code",
   "execution_count": 10,
   "id": "e986255f",
   "metadata": {},
   "outputs": [
    {
     "data": {
      "text/plain": [
       "33"
      ]
     },
     "execution_count": 10,
     "metadata": {},
     "output_type": "execute_result"
    }
   ],
   "source": [
    "# Import additional packages for controlling our loop\n",
    "import time, math\n",
    "# Use math.ceil to round up for the total number of pages of results.\n",
    "n_pages = math.ceil((results['total']-n_results)/ results_per_page)\n",
    "n_pages\n",
    "\n"
   ]
  },
  {
   "cell_type": "markdown",
   "id": "df6007c4",
   "metadata": {},
   "source": [
    "### Add new results to old results"
   ]
  },
  {
   "cell_type": "code",
   "execution_count": 11,
   "id": "55dc8314",
   "metadata": {},
   "outputs": [],
   "source": [
    "# join new results with old list with extend and save to file\n",
    "previous_results.extend(results['businesses'])  \n",
    "with open(JSON_FILE,'w') as f:\n",
    "     json.dump(previous_results,f)\n"
   ]
  },
  {
   "cell_type": "markdown",
   "id": "195dd130",
   "metadata": {},
   "source": [
    "### function"
   ]
  },
  {
   "cell_type": "code",
   "execution_count": 12,
   "id": "601e8eb0",
   "metadata": {},
   "outputs": [],
   "source": [
    "def create_json_file(JSON_FILE, delete_if_exists=False):\n",
    "    # Check if JSON_FILE exists\n",
    "    file_exists = os.path.isfile(JSON_FILE)\n",
    "\n",
    "    # If it DOES exist:\n",
    "    if file_exists:\n",
    "        # Check if user wants to delete if exists\n",
    "        if delete_if_exists:\n",
    "            print(f\"[!] {JSON_FILE} already exists. Deleting previous file...\")\n",
    "            # delete file and confirm it no longer exists\n",
    "            os.remove(JSON_FILE)\n",
    "            # Recursive call to function after old file deleted\n",
    "            create_json_file(JSON_FILE, delete_if_exists=False)\n",
    "        else:\n",
    "            print(f\"[i] {JSON_FILE} already exists.\")\n",
    "\n",
    "    # If it does NOT exist:\n",
    "    else:\n",
    "        # INFORM USER AND SAVE EMPTY LIST\n",
    "        print(f\"[i] {JSON_FILE} not found. Saving empty list to new file.\")\n",
    "\n",
    "        # CREATE ANY NEEDED FOLDERS\n",
    "        # Get the Folder Name only\n",
    "        folder = os.path.dirname(JSON_FILE)\n",
    "\n",
    "        # If JSON_FILE included a folder:\n",
    "        if len(folder) > 0:\n",
    "            # create the folder\n",
    "            os.makedirs(folder, exist_ok=True)\n",
    "\n",
    "        # Save empty list to start the json file\n",
    "        with open(JSON_FILE, 'w') as f:\n",
    "            json.dump([], f)"
   ]
  },
  {
   "cell_type": "code",
   "execution_count": 13,
   "id": "7ad13b24",
   "metadata": {},
   "outputs": [
    {
     "name": "stdout",
     "output_type": "stream",
     "text": [
      "[!] Data/results_in_progress_OR_bagels.json already exists. Deleting previous file...\n",
      "[i] Data/results_in_progress_OR_bagels.json not found. Saving empty list to new file.\n",
      "- 0 previous results found.\n"
     ]
    },
    {
     "data": {
      "text/plain": [
       "34"
      ]
     },
     "execution_count": 13,
     "metadata": {},
     "output_type": "execute_result"
    }
   ],
   "source": [
    "## Create a new empty json file (exist the previous if it exists)\n",
    "create_json_file(JSON_FILE, delete_if_exists=True)\n",
    "## Load previous results and use len of results for offset\n",
    "with open(JSON_FILE,'r') as f:\n",
    "    previous_results = json.load(f)\n",
    "    \n",
    "## set offset based on previous results\n",
    "n_results = len(previous_results)\n",
    "print(f'- {n_results} previous results found.')\n",
    "# use our yelp_api variable's search_query method to perform our API call\n",
    "results = yelp_api.search_query(location=LOCATION,\n",
    "                                term=TERM,\n",
    "                               offset=n_results)\n",
    "## How many results total?\n",
    "total_results = results['total']\n",
    "## How many did we get the details for?\n",
    "results_per_page = len(results['businesses'])\n",
    "# Use math.ceil to round up for the total number of pages of results.\n",
    "n_pages = math.ceil((results['total']-n_results)/ results_per_page)\n",
    "n_pages\n",
    "\n"
   ]
  },
  {
   "cell_type": "code",
   "execution_count": 14,
   "id": "37e6239f",
   "metadata": {},
   "outputs": [
    {
     "data": {
      "application/vnd.jupyter.widget-view+json": {
       "model_id": "0cfd1fe696b94dabbccc5061553aeb14",
       "version_major": 2,
       "version_minor": 0
      },
      "text/plain": [
       "  0%|          | 0/34 [00:00<?, ?it/s]"
      ]
     },
     "metadata": {},
     "output_type": "display_data"
    }
   ],
   "source": [
    "for i in tqdm_notebook( range(1,n_pages+1)):\n",
    "    \n",
    "    ## Read in results in progress file and check the length\n",
    "    with open(JSON_FILE, 'r') as f:\n",
    "        previous_results = json.load(f)\n",
    "    ## save number of results for to use as offset\n",
    "    n_results = len(previous_results)\n",
    "    \n",
    "    if (n_results + results_per_page) > 1000:\n",
    "        print('Exceeded 1000 api calls. Stopping loop.')\n",
    "        break\n",
    "    \n",
    "    ## use n_results as the OFFSET \n",
    "    results = yelp_api.search_query(location=LOCATION,\n",
    "                                    term=TERM, \n",
    "                                    offset=n_results)\n",
    "    \n",
    "    \n",
    "    \n",
    "    ## append new results and save to file\n",
    "    previous_results.extend(results['businesses'])\n",
    "    \n",
    "    # display(previous_results)\n",
    "    with open(JSON_FILE,'w') as f:\n",
    "        json.dump(previous_results,f)\n",
    "    \n",
    "    time.sleep(.2)\n",
    "\n"
   ]
  },
  {
   "cell_type": "code",
   "execution_count": 15,
   "id": "79946a78",
   "metadata": {},
   "outputs": [
    {
     "data": {
      "text/html": [
       "<div>\n",
       "<style scoped>\n",
       "    .dataframe tbody tr th:only-of-type {\n",
       "        vertical-align: middle;\n",
       "    }\n",
       "\n",
       "    .dataframe tbody tr th {\n",
       "        vertical-align: top;\n",
       "    }\n",
       "\n",
       "    .dataframe thead th {\n",
       "        text-align: right;\n",
       "    }\n",
       "</style>\n",
       "<table border=\"1\" class=\"dataframe\">\n",
       "  <thead>\n",
       "    <tr style=\"text-align: right;\">\n",
       "      <th></th>\n",
       "      <th>id</th>\n",
       "      <th>alias</th>\n",
       "      <th>name</th>\n",
       "      <th>image_url</th>\n",
       "      <th>is_closed</th>\n",
       "      <th>url</th>\n",
       "      <th>review_count</th>\n",
       "      <th>categories</th>\n",
       "      <th>rating</th>\n",
       "      <th>coordinates</th>\n",
       "      <th>transactions</th>\n",
       "      <th>price</th>\n",
       "      <th>location</th>\n",
       "      <th>phone</th>\n",
       "      <th>display_phone</th>\n",
       "      <th>distance</th>\n",
       "    </tr>\n",
       "  </thead>\n",
       "  <tbody>\n",
       "    <tr>\n",
       "      <th>0</th>\n",
       "      <td>9l2YZ9KDnIOdBzhq0pW93Q</td>\n",
       "      <td>bernsteins-bagels-portland-2</td>\n",
       "      <td>Bernstein's Bagels</td>\n",
       "      <td>https://s3-media3.fl.yelpcdn.com/bphoto/qrZ7mi...</td>\n",
       "      <td>False</td>\n",
       "      <td>https://www.yelp.com/biz/bernsteins-bagels-por...</td>\n",
       "      <td>114</td>\n",
       "      <td>[{'alias': 'bagels', 'title': 'Bagels'}, {'ali...</td>\n",
       "      <td>4.5</td>\n",
       "      <td>{'latitude': 45.5408365116567, 'longitude': -1...</td>\n",
       "      <td>[delivery]</td>\n",
       "      <td>$</td>\n",
       "      <td>{'address1': '816 N Russell St', 'address2': '...</td>\n",
       "      <td>+15038831222</td>\n",
       "      <td>(503) 883-1222</td>\n",
       "      <td>1636.514808</td>\n",
       "    </tr>\n",
       "    <tr>\n",
       "      <th>1</th>\n",
       "      <td>huErclb5v4o1Ld9_9hZXDg</td>\n",
       "      <td>bentley-s-bagels-portland</td>\n",
       "      <td>Bentley’s Bagels</td>\n",
       "      <td>https://s3-media2.fl.yelpcdn.com/bphoto/Qc0YVn...</td>\n",
       "      <td>False</td>\n",
       "      <td>https://www.yelp.com/biz/bentley-s-bagels-port...</td>\n",
       "      <td>86</td>\n",
       "      <td>[{'alias': 'bagels', 'title': 'Bagels'}]</td>\n",
       "      <td>4.5</td>\n",
       "      <td>{'latitude': 45.52945, 'longitude': -122.69432}</td>\n",
       "      <td>[delivery]</td>\n",
       "      <td>NaN</td>\n",
       "      <td>{'address1': '918 Nw 21st Ave', 'address2': No...</td>\n",
       "      <td>+19713027019</td>\n",
       "      <td>(971) 302-7019</td>\n",
       "      <td>3467.074749</td>\n",
       "    </tr>\n",
       "    <tr>\n",
       "      <th>2</th>\n",
       "      <td>I8Krk_FEXbWNqv26Ny7W8w</td>\n",
       "      <td>henry-higgins-boiled-bagels-portland-8</td>\n",
       "      <td>Henry Higgins Boiled Bagels</td>\n",
       "      <td>https://s3-media2.fl.yelpcdn.com/bphoto/_1KbHy...</td>\n",
       "      <td>False</td>\n",
       "      <td>https://www.yelp.com/biz/henry-higgins-boiled-...</td>\n",
       "      <td>147</td>\n",
       "      <td>[{'alias': 'bagels', 'title': 'Bagels'}]</td>\n",
       "      <td>4.0</td>\n",
       "      <td>{'latitude': 45.5268171305383, 'longitude': -1...</td>\n",
       "      <td>[delivery]</td>\n",
       "      <td>$</td>\n",
       "      <td>{'address1': '523 NE 19th Ave', 'address2': ''...</td>\n",
       "      <td>+19719400256</td>\n",
       "      <td>(971) 940-0256</td>\n",
       "      <td>1850.571594</td>\n",
       "    </tr>\n",
       "    <tr>\n",
       "      <th>3</th>\n",
       "      <td>qHUy0Xr9MsytU3FAnh8Rwg</td>\n",
       "      <td>just-bob-portland-2</td>\n",
       "      <td>Just Bob.</td>\n",
       "      <td>https://s3-media1.fl.yelpcdn.com/bphoto/B7Riv1...</td>\n",
       "      <td>False</td>\n",
       "      <td>https://www.yelp.com/biz/just-bob-portland-2?a...</td>\n",
       "      <td>170</td>\n",
       "      <td>[{'alias': 'cafes', 'title': 'Cafes'}, {'alias...</td>\n",
       "      <td>4.5</td>\n",
       "      <td>{'latitude': 45.55925, 'longitude': -122.64074}</td>\n",
       "      <td>[delivery]</td>\n",
       "      <td>$</td>\n",
       "      <td>{'address1': '2403 NE Alberta St', 'address2':...</td>\n",
       "      <td>+15034674656</td>\n",
       "      <td>(503) 467-4656</td>\n",
       "      <td>2101.342040</td>\n",
       "    </tr>\n",
       "    <tr>\n",
       "      <th>4</th>\n",
       "      <td>lnBtjouBKqOUl9Oo0VD5mQ</td>\n",
       "      <td>henry-higgins-boiled-bagels-portland-5</td>\n",
       "      <td>Henry Higgins Boiled Bagels</td>\n",
       "      <td>https://s3-media3.fl.yelpcdn.com/bphoto/7_ar5S...</td>\n",
       "      <td>False</td>\n",
       "      <td>https://www.yelp.com/biz/henry-higgins-boiled-...</td>\n",
       "      <td>320</td>\n",
       "      <td>[{'alias': 'sandwiches', 'title': 'Sandwiches'...</td>\n",
       "      <td>4.0</td>\n",
       "      <td>{'latitude': 45.48914, 'longitude': -122.59622}</td>\n",
       "      <td>[delivery]</td>\n",
       "      <td>$</td>\n",
       "      <td>{'address1': '6420 SE Foster Rd', 'address2': ...</td>\n",
       "      <td>+19712718613</td>\n",
       "      <td>(971) 271-8613</td>\n",
       "      <td>7447.348509</td>\n",
       "    </tr>\n",
       "  </tbody>\n",
       "</table>\n",
       "</div>"
      ],
      "text/plain": [
       "                       id                                   alias  \\\n",
       "0  9l2YZ9KDnIOdBzhq0pW93Q            bernsteins-bagels-portland-2   \n",
       "1  huErclb5v4o1Ld9_9hZXDg               bentley-s-bagels-portland   \n",
       "2  I8Krk_FEXbWNqv26Ny7W8w  henry-higgins-boiled-bagels-portland-8   \n",
       "3  qHUy0Xr9MsytU3FAnh8Rwg                     just-bob-portland-2   \n",
       "4  lnBtjouBKqOUl9Oo0VD5mQ  henry-higgins-boiled-bagels-portland-5   \n",
       "\n",
       "                          name  \\\n",
       "0           Bernstein's Bagels   \n",
       "1             Bentley’s Bagels   \n",
       "2  Henry Higgins Boiled Bagels   \n",
       "3                    Just Bob.   \n",
       "4  Henry Higgins Boiled Bagels   \n",
       "\n",
       "                                           image_url  is_closed  \\\n",
       "0  https://s3-media3.fl.yelpcdn.com/bphoto/qrZ7mi...      False   \n",
       "1  https://s3-media2.fl.yelpcdn.com/bphoto/Qc0YVn...      False   \n",
       "2  https://s3-media2.fl.yelpcdn.com/bphoto/_1KbHy...      False   \n",
       "3  https://s3-media1.fl.yelpcdn.com/bphoto/B7Riv1...      False   \n",
       "4  https://s3-media3.fl.yelpcdn.com/bphoto/7_ar5S...      False   \n",
       "\n",
       "                                                 url  review_count  \\\n",
       "0  https://www.yelp.com/biz/bernsteins-bagels-por...           114   \n",
       "1  https://www.yelp.com/biz/bentley-s-bagels-port...            86   \n",
       "2  https://www.yelp.com/biz/henry-higgins-boiled-...           147   \n",
       "3  https://www.yelp.com/biz/just-bob-portland-2?a...           170   \n",
       "4  https://www.yelp.com/biz/henry-higgins-boiled-...           320   \n",
       "\n",
       "                                          categories  rating  \\\n",
       "0  [{'alias': 'bagels', 'title': 'Bagels'}, {'ali...     4.5   \n",
       "1           [{'alias': 'bagels', 'title': 'Bagels'}]     4.5   \n",
       "2           [{'alias': 'bagels', 'title': 'Bagels'}]     4.0   \n",
       "3  [{'alias': 'cafes', 'title': 'Cafes'}, {'alias...     4.5   \n",
       "4  [{'alias': 'sandwiches', 'title': 'Sandwiches'...     4.0   \n",
       "\n",
       "                                         coordinates transactions price  \\\n",
       "0  {'latitude': 45.5408365116567, 'longitude': -1...   [delivery]     $   \n",
       "1    {'latitude': 45.52945, 'longitude': -122.69432}   [delivery]   NaN   \n",
       "2  {'latitude': 45.5268171305383, 'longitude': -1...   [delivery]     $   \n",
       "3    {'latitude': 45.55925, 'longitude': -122.64074}   [delivery]     $   \n",
       "4    {'latitude': 45.48914, 'longitude': -122.59622}   [delivery]     $   \n",
       "\n",
       "                                            location         phone  \\\n",
       "0  {'address1': '816 N Russell St', 'address2': '...  +15038831222   \n",
       "1  {'address1': '918 Nw 21st Ave', 'address2': No...  +19713027019   \n",
       "2  {'address1': '523 NE 19th Ave', 'address2': ''...  +19719400256   \n",
       "3  {'address1': '2403 NE Alberta St', 'address2':...  +15034674656   \n",
       "4  {'address1': '6420 SE Foster Rd', 'address2': ...  +19712718613   \n",
       "\n",
       "    display_phone     distance  \n",
       "0  (503) 883-1222  1636.514808  \n",
       "1  (971) 302-7019  3467.074749  \n",
       "2  (971) 940-0256  1850.571594  \n",
       "3  (503) 467-4656  2101.342040  \n",
       "4  (971) 271-8613  7447.348509  "
      ]
     },
     "metadata": {},
     "output_type": "display_data"
    },
    {
     "data": {
      "text/html": [
       "<div>\n",
       "<style scoped>\n",
       "    .dataframe tbody tr th:only-of-type {\n",
       "        vertical-align: middle;\n",
       "    }\n",
       "\n",
       "    .dataframe tbody tr th {\n",
       "        vertical-align: top;\n",
       "    }\n",
       "\n",
       "    .dataframe thead th {\n",
       "        text-align: right;\n",
       "    }\n",
       "</style>\n",
       "<table border=\"1\" class=\"dataframe\">\n",
       "  <thead>\n",
       "    <tr style=\"text-align: right;\">\n",
       "      <th></th>\n",
       "      <th>id</th>\n",
       "      <th>alias</th>\n",
       "      <th>name</th>\n",
       "      <th>image_url</th>\n",
       "      <th>is_closed</th>\n",
       "      <th>url</th>\n",
       "      <th>review_count</th>\n",
       "      <th>categories</th>\n",
       "      <th>rating</th>\n",
       "      <th>coordinates</th>\n",
       "      <th>transactions</th>\n",
       "      <th>price</th>\n",
       "      <th>location</th>\n",
       "      <th>phone</th>\n",
       "      <th>display_phone</th>\n",
       "      <th>distance</th>\n",
       "    </tr>\n",
       "  </thead>\n",
       "  <tbody>\n",
       "    <tr>\n",
       "      <th>665</th>\n",
       "      <td>BbZywCVU9j5HuBEgvDPtoA</td>\n",
       "      <td>safeway-king-city-4</td>\n",
       "      <td>Safeway</td>\n",
       "      <td>https://s3-media2.fl.yelpcdn.com/bphoto/KIFF-V...</td>\n",
       "      <td>False</td>\n",
       "      <td>https://www.yelp.com/biz/safeway-king-city-4?a...</td>\n",
       "      <td>62</td>\n",
       "      <td>[{'alias': 'grocery', 'title': 'Grocery'}]</td>\n",
       "      <td>2.5</td>\n",
       "      <td>{'latitude': 45.40724, 'longitude': -122.79270...</td>\n",
       "      <td>[]</td>\n",
       "      <td>$$</td>\n",
       "      <td>{'address1': '15570 SW Pacific Hwy', 'address2...</td>\n",
       "      <td>+15035986001</td>\n",
       "      <td>(503) 598-6001</td>\n",
       "      <td>18540.061128</td>\n",
       "    </tr>\n",
       "    <tr>\n",
       "      <th>666</th>\n",
       "      <td>LfbxX1KrfIl5yldQ6bxMKw</td>\n",
       "      <td>wasabi-sushi-pdx-happy-valley</td>\n",
       "      <td>Wasabi Sushi PDX</td>\n",
       "      <td>https://s3-media2.fl.yelpcdn.com/bphoto/VcBhr3...</td>\n",
       "      <td>False</td>\n",
       "      <td>https://www.yelp.com/biz/wasabi-sushi-pdx-happ...</td>\n",
       "      <td>144</td>\n",
       "      <td>[{'alias': 'foodtrucks', 'title': 'Food Trucks...</td>\n",
       "      <td>4.0</td>\n",
       "      <td>{'latitude': 45.42434, 'longitude': -122.51527}</td>\n",
       "      <td>[delivery, pickup]</td>\n",
       "      <td>$$</td>\n",
       "      <td>{'address1': '13551 SE 145th Ave', 'address2':...</td>\n",
       "      <td>+15037245199</td>\n",
       "      <td>(503) 724-5199</td>\n",
       "      <td>17029.444068</td>\n",
       "    </tr>\n",
       "    <tr>\n",
       "      <th>667</th>\n",
       "      <td>mi1dZbnxwYPM3eLrWM-6MA</td>\n",
       "      <td>starbucks-hillsboro-5</td>\n",
       "      <td>Starbucks</td>\n",
       "      <td>https://s3-media1.fl.yelpcdn.com/bphoto/E5dp46...</td>\n",
       "      <td>False</td>\n",
       "      <td>https://www.yelp.com/biz/starbucks-hillsboro-5...</td>\n",
       "      <td>36</td>\n",
       "      <td>[{'alias': 'coffee', 'title': 'Coffee &amp; Tea'}]</td>\n",
       "      <td>3.0</td>\n",
       "      <td>{'latitude': 45.5337682, 'longitude': -122.935...</td>\n",
       "      <td>[delivery]</td>\n",
       "      <td>$$</td>\n",
       "      <td>{'address1': '1221 NE 48th Ave', 'address2': '...</td>\n",
       "      <td>+15036931239</td>\n",
       "      <td>(503) 693-1239</td>\n",
       "      <td>21910.915686</td>\n",
       "    </tr>\n",
       "    <tr>\n",
       "      <th>668</th>\n",
       "      <td>HFAcdeRwBohKst5Nlsaijg</td>\n",
       "      <td>starbucks-beaverton-14</td>\n",
       "      <td>Starbucks</td>\n",
       "      <td>https://s3-media4.fl.yelpcdn.com/bphoto/xK2t24...</td>\n",
       "      <td>False</td>\n",
       "      <td>https://www.yelp.com/biz/starbucks-beaverton-1...</td>\n",
       "      <td>45</td>\n",
       "      <td>[{'alias': 'coffee', 'title': 'Coffee &amp; Tea'}]</td>\n",
       "      <td>3.0</td>\n",
       "      <td>{'latitude': 45.438221, 'longitude': -122.8268...</td>\n",
       "      <td>[delivery]</td>\n",
       "      <td>$$</td>\n",
       "      <td>{'address1': '14600 SW Murray Scholls Dr', 'ad...</td>\n",
       "      <td>+15035907886</td>\n",
       "      <td>(503) 590-7886</td>\n",
       "      <td>17784.965610</td>\n",
       "    </tr>\n",
       "    <tr>\n",
       "      <th>669</th>\n",
       "      <td>XUuzSaINm3BylXMnLylfWg</td>\n",
       "      <td>safeway-beaverton-2</td>\n",
       "      <td>Safeway</td>\n",
       "      <td>https://s3-media2.fl.yelpcdn.com/bphoto/OTBCxe...</td>\n",
       "      <td>False</td>\n",
       "      <td>https://www.yelp.com/biz/safeway-beaverton-2?a...</td>\n",
       "      <td>84</td>\n",
       "      <td>[{'alias': 'grocery', 'title': 'Grocery'}]</td>\n",
       "      <td>2.5</td>\n",
       "      <td>{'latitude': 45.44206144957988, 'longitude': -...</td>\n",
       "      <td>[]</td>\n",
       "      <td>$$</td>\n",
       "      <td>{'address1': '14555 SW Teal Blvd', 'address2':...</td>\n",
       "      <td>+15035909755</td>\n",
       "      <td>(503) 590-9755</td>\n",
       "      <td>17508.110946</td>\n",
       "    </tr>\n",
       "  </tbody>\n",
       "</table>\n",
       "</div>"
      ],
      "text/plain": [
       "                         id                          alias              name  \\\n",
       "665  BbZywCVU9j5HuBEgvDPtoA            safeway-king-city-4           Safeway   \n",
       "666  LfbxX1KrfIl5yldQ6bxMKw  wasabi-sushi-pdx-happy-valley  Wasabi Sushi PDX   \n",
       "667  mi1dZbnxwYPM3eLrWM-6MA          starbucks-hillsboro-5         Starbucks   \n",
       "668  HFAcdeRwBohKst5Nlsaijg         starbucks-beaverton-14         Starbucks   \n",
       "669  XUuzSaINm3BylXMnLylfWg            safeway-beaverton-2           Safeway   \n",
       "\n",
       "                                             image_url  is_closed  \\\n",
       "665  https://s3-media2.fl.yelpcdn.com/bphoto/KIFF-V...      False   \n",
       "666  https://s3-media2.fl.yelpcdn.com/bphoto/VcBhr3...      False   \n",
       "667  https://s3-media1.fl.yelpcdn.com/bphoto/E5dp46...      False   \n",
       "668  https://s3-media4.fl.yelpcdn.com/bphoto/xK2t24...      False   \n",
       "669  https://s3-media2.fl.yelpcdn.com/bphoto/OTBCxe...      False   \n",
       "\n",
       "                                                   url  review_count  \\\n",
       "665  https://www.yelp.com/biz/safeway-king-city-4?a...            62   \n",
       "666  https://www.yelp.com/biz/wasabi-sushi-pdx-happ...           144   \n",
       "667  https://www.yelp.com/biz/starbucks-hillsboro-5...            36   \n",
       "668  https://www.yelp.com/biz/starbucks-beaverton-1...            45   \n",
       "669  https://www.yelp.com/biz/safeway-beaverton-2?a...            84   \n",
       "\n",
       "                                            categories  rating  \\\n",
       "665         [{'alias': 'grocery', 'title': 'Grocery'}]     2.5   \n",
       "666  [{'alias': 'foodtrucks', 'title': 'Food Trucks...     4.0   \n",
       "667     [{'alias': 'coffee', 'title': 'Coffee & Tea'}]     3.0   \n",
       "668     [{'alias': 'coffee', 'title': 'Coffee & Tea'}]     3.0   \n",
       "669         [{'alias': 'grocery', 'title': 'Grocery'}]     2.5   \n",
       "\n",
       "                                           coordinates        transactions  \\\n",
       "665  {'latitude': 45.40724, 'longitude': -122.79270...                  []   \n",
       "666    {'latitude': 45.42434, 'longitude': -122.51527}  [delivery, pickup]   \n",
       "667  {'latitude': 45.5337682, 'longitude': -122.935...          [delivery]   \n",
       "668  {'latitude': 45.438221, 'longitude': -122.8268...          [delivery]   \n",
       "669  {'latitude': 45.44206144957988, 'longitude': -...                  []   \n",
       "\n",
       "    price                                           location         phone  \\\n",
       "665    $$  {'address1': '15570 SW Pacific Hwy', 'address2...  +15035986001   \n",
       "666    $$  {'address1': '13551 SE 145th Ave', 'address2':...  +15037245199   \n",
       "667    $$  {'address1': '1221 NE 48th Ave', 'address2': '...  +15036931239   \n",
       "668    $$  {'address1': '14600 SW Murray Scholls Dr', 'ad...  +15035907886   \n",
       "669    $$  {'address1': '14555 SW Teal Blvd', 'address2':...  +15035909755   \n",
       "\n",
       "      display_phone      distance  \n",
       "665  (503) 598-6001  18540.061128  \n",
       "666  (503) 724-5199  17029.444068  \n",
       "667  (503) 693-1239  21910.915686  \n",
       "668  (503) 590-7886  17784.965610  \n",
       "669  (503) 590-9755  17508.110946  "
      ]
     },
     "metadata": {},
     "output_type": "display_data"
    }
   ],
   "source": [
    "# load final results\n",
    "final_df = pd.read_json(JSON_FILE)\n",
    "display(final_df.head(), final_df.tail())\n"
   ]
  },
  {
   "cell_type": "code",
   "execution_count": 17,
   "id": "2a9b83cd",
   "metadata": {},
   "outputs": [
    {
     "data": {
      "text/plain": [
       "0"
      ]
     },
     "execution_count": 17,
     "metadata": {},
     "output_type": "execute_result"
    }
   ],
   "source": [
    "# check for duplicate ID's \n",
    "final_df.duplicated(subset='id').sum()\n",
    "\n"
   ]
  },
  {
   "cell_type": "code",
   "execution_count": 18,
   "id": "ce7eeb56",
   "metadata": {},
   "outputs": [
    {
     "data": {
      "text/plain": [
       "0"
      ]
     },
     "execution_count": 18,
     "metadata": {},
     "output_type": "execute_result"
    }
   ],
   "source": [
    "## Drop duplicate ids and confirm there are no more duplicates\n",
    "final_df = final_df.drop_duplicates(subset='id')\n",
    "final_df.duplicated(subset='id').sum()\n"
   ]
  },
  {
   "cell_type": "code",
   "execution_count": 19,
   "id": "46f70b7e",
   "metadata": {},
   "outputs": [],
   "source": [
    "# save the final results to a compressed csv\n",
    "final_df.to_csv('Data/final_results_OR_bagels.csv.gz', compression='gzip',index=False)\n"
   ]
  }
 ],
 "metadata": {
  "kernelspec": {
   "display_name": "Python (dojo-env)",
   "language": "python",
   "name": "dojo-env"
  },
  "language_info": {
   "codemirror_mode": {
    "name": "ipython",
    "version": 3
   },
   "file_extension": ".py",
   "mimetype": "text/x-python",
   "name": "python",
   "nbconvert_exporter": "python",
   "pygments_lexer": "ipython3",
   "version": "3.9.15"
  },
  "toc": {
   "base_numbering": 1,
   "nav_menu": {},
   "number_sections": false,
   "sideBar": true,
   "skip_h1_title": false,
   "title_cell": "Table of Contents",
   "title_sidebar": "Contents",
   "toc_cell": false,
   "toc_position": {},
   "toc_section_display": true,
   "toc_window_display": false
  }
 },
 "nbformat": 4,
 "nbformat_minor": 5
}
